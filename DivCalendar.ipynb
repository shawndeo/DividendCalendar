{
 "cells": [
  {
   "cell_type": "markdown",
   "metadata": {},
   "source": [
    "<h1>What weeks do the S&amp;P Dividend Aristocrats payout?</h1>"
   ]
  },
  {
   "cell_type": "markdown",
   "metadata": {},
   "source": [
    "<h2>Import pandas, NumPy and datetime.</h2>"
   ]
  },
  {
   "cell_type": "code",
   "execution_count": 207,
   "metadata": {},
   "outputs": [],
   "source": [
    "import pandas as pd\n",
    "import numpy as np\n",
    "from datetime import date"
   ]
  },
  {
   "cell_type": "markdown",
   "metadata": {},
   "source": [
    "<h2>Read the CSV file into Panda's CSV reader.</h2>"
   ]
  },
  {
   "cell_type": "code",
   "execution_count": 208,
   "metadata": {},
   "outputs": [],
   "source": [
    "df = pd.read_csv('DividendPaydates.csv')"
   ]
  },
  {
   "cell_type": "code",
   "execution_count": 211,
   "metadata": {},
   "outputs": [],
   "source": [
    "def stockPayoutWeeks(spreadsheet):\n",
    "    # Use list comprehension to create a dictionary with weeks as the keys and lists as the values.\n",
    "    weekDict = {'Week {}'.format(num): [] for num in range(1, 53)}\n",
    "    # For stock symbol in the DataFrame\n",
    "    for col in spreadsheet.columns:\n",
    "        # For each stock's payout dates\n",
    "        for payday in spreadsheet[col]:\n",
    "            if type(payday) != str:\n",
    "                pass\n",
    "            else:\n",
    "                divDay = date(int(payday[:4]), int(payday[5:7]), int(payday[8:]))\n",
    "                startOfYear = date(int(payday[:4]), 1, 1)\n",
    "                daysIntoYear = str(divDay - startOfYear).split()\n",
    "                weeksIntoYear = int(np.round(int(daysIntoYear[0]) / 7))\n",
    "                if weeksIntoYear == 0:\n",
    "                    weeksIntoYear = 1\n",
    "                colString = 'Week {}'.format(weeksIntoYear)\n",
    "                if col not in weekDict[colString]:\n",
    "                    weekDict[colString].append(col)\n",
    "                else:\n",
    "                    pass\n",
    "    for week, tick in weekDict.items():\n",
    "        print('In {} these stocks pay out dividends: {}'.format(week, sorted(tick)))\n",
    "                "
   ]
  },
  {
   "cell_type": "markdown",
   "metadata": {},
   "source": [
    "<h2>Results</h2>"
   ]
  },
  {
   "cell_type": "code",
   "execution_count": 212,
   "metadata": {},
   "outputs": [
    {
     "name": "stdout",
     "output_type": "stream",
     "text": [
      "In Week 1 these stocks pay out dividends: ['ABBV', 'ABT', 'HRL', 'MDT', 'ROP', 'SYY']\n",
      "In Week 2 these stocks pay out dividends: ['ABBV', 'ABT', 'CAT', 'CLX', 'GD', 'HRL', 'LOW', 'PG']\n",
      "In Week 3 these stocks pay out dividends: ['CAT', 'CL', 'CLX', 'HRL', 'LOW', 'PG', 'PNR']\n",
      "In Week 4 these stocks pay out dividends: ['AOS', 'CLX', 'PBCT', 'PNR']\n",
      "In Week 5 these stocks pay out dividends: ['AOS', 'GWW', 'PPG', 'WBA', 'XOM']\n",
      "In Week 6 these stocks pay out dividends: ['ADM', 'AFL', 'CVX', 'ED', 'EMR', 'GWW', 'MMM', 'PPG', 'TGT', 'WBA', 'XOM']\n",
      "In Week 7 these stocks pay out dividends: ['ADM', 'AFL', 'ATO', 'CVX', 'ED', 'JNJ', 'PPG', 'ROST', 'SHW', 'SPGI', 'TGT', 'WBA']\n",
      "In Week 8 these stocks pay out dividends: ['ATO', 'DOV', 'ECL', 'JNJ', 'MCD', 'PEP', 'SHW', 'SPGI', 'SWK']\n",
      "In Week 9 these stocks pay out dividends: ['ADP', 'BDX', 'ECL', 'GPC', 'KMB', 'LIN', 'PEP', 'ROST', 'SWK', 'VFC', 'WMT']\n",
      "In Week 10 these stocks pay out dividends: ['ADP', 'ALB', 'BDX', 'CB', 'ED', 'ESS', 'KO', 'LEG', 'ROST', 'TROW', 'WMT']\n",
      "In Week 11 these stocks pay out dividends: ['CB', 'CINF', 'ECL', 'HRL', 'MDT', 'ROST', 'WMT']\n",
      "In Week 12 these stocks pay out dividends: ['APD', 'BEN', 'CAH', 'CB', 'ESS', 'ITW', 'MDT', 'NUE']\n",
      "In Week 13 these stocks pay out dividends: ['APD', 'BEN', 'CAH', 'CB', 'ESS', 'GD', 'ITW', 'MDT', 'MKC', 'NUE', 'ROP', 'SYY']\n",
      "In Week 14 these stocks pay out dividends: ['ABBV', 'ABT', 'GD', 'HRL', 'MKC', 'PNR', 'ROP', 'TROW']\n",
      "In Week 15 these stocks pay out dividends: ['ABBV', 'ABT', 'CAT', 'CL', 'CLX', 'ECL', 'HRL', 'LOW', 'PG', 'PNR']\n",
      "In Week 16 these stocks pay out dividends: ['AOS', 'CAT', 'CL', 'CLX', 'HRL', 'LOW', 'PG', 'PNR']\n",
      "In Week 17 these stocks pay out dividends: ['AOS', 'CAH', 'PBCT']\n",
      "In Week 18 these stocks pay out dividends: ['EMR', 'GWW', 'PPG', 'WMT', 'XOM']\n",
      "In Week 19 these stocks pay out dividends: ['ADM', 'AFL', 'ATO', 'CVX', 'ED', 'EMR', 'GWW', 'HRL', 'MMM', 'RTX', 'SHW', 'TGT', 'WBA', 'XOM']\n",
      "In Week 20 these stocks pay out dividends: ['ADM', 'AFL', 'ATO', 'CVX', 'ED', 'JNJ', 'MMM', 'OTIS', 'SHW', 'SPGI', 'TGT', 'WBA']\n",
      "In Week 21 these stocks pay out dividends: ['BEN', 'DOV', 'EXPD', 'JNJ', 'MCD', 'PEP', 'SPGI', 'SWK']\n",
      "In Week 22 these stocks pay out dividends: ['ADP', 'BDX', 'BF-B', 'GPC', 'KMB', 'LIN', 'MCD', 'PEP', 'ROST', 'SWK', 'VFC']\n",
      "In Week 23 these stocks pay out dividends: ['ABT', 'ADP', 'ALB', 'BDX', 'ECL', 'KMB', 'KO', 'LEG', 'ROP', 'ROST', 'TROW']\n",
      "In Week 24 these stocks pay out dividends: ['BEN', 'CB', 'CINF', 'ECL', 'FRT']\n",
      "In Week 25 these stocks pay out dividends: ['APD', 'BEN', 'CAH', 'CARR', 'CB', 'ESS', 'ITW', 'MDT', 'NUE']\n",
      "In Week 26 these stocks pay out dividends: ['APD', 'BEN', 'CAH', 'CB', 'ESS', 'GD', 'ITW', 'MDT', 'MKC', 'NUE', 'ROP', 'SYY']\n",
      "In Week 27 these stocks pay out dividends: ['ABBV', 'ABT', 'HRL', 'MDT', 'MKC', 'ROP']\n",
      "In Week 28 these stocks pay out dividends: ['ABBV', 'ABT', 'BEN', 'CAT', 'CB', 'CL', 'CLX', 'HRL', 'LOW', 'PG', 'PNR', 'PPG']\n",
      "In Week 29 these stocks pay out dividends: ['CL', 'CLX', 'HRL', 'LOW', 'MKC', 'PG', 'PNR']\n",
      "In Week 30 these stocks pay out dividends: ['AOS', 'BEN', 'CLX', 'PBCT', 'PNR']\n",
      "In Week 31 these stocks pay out dividends: ['EMR', 'GWW', 'ITW', 'PPG', 'WMT', 'XOM']\n",
      "In Week 32 these stocks pay out dividends: ['ADM', 'AFL', 'CVX', 'ED', 'EMR', 'GWW', 'MMM', 'RTX', 'SHW', 'TGT', 'WBA', 'WMT', 'XOM']\n",
      "In Week 33 these stocks pay out dividends: ['ADM', 'AFL', 'ATO', 'CVX', 'ED', 'JNJ', 'MMM', 'SHW', 'TGT', 'WBA']\n",
      "In Week 34 these stocks pay out dividends: ['ATO', 'DOV', 'JNJ', 'MCD', 'PEP', 'ROST', 'SPGI', 'SWK']\n",
      "In Week 35 these stocks pay out dividends: ['BDX', 'GPC', 'KMB', 'LIN', 'MCD', 'PEP', 'ROST', 'SWK', 'VFC']\n",
      "In Week 36 these stocks pay out dividends: ['ADP', 'ALB', 'BDX', 'ECL', 'GPC', 'KMB', 'KO', 'LEG', 'ROST', 'TROW', 'VFC']\n",
      "In Week 37 these stocks pay out dividends: ['ALB', 'CB', 'CINF', 'ECL', 'FRT', 'KO', 'LEG', 'TROW']\n",
      "In Week 38 these stocks pay out dividends: ['APD', 'BEN', 'CAH', 'ESS', 'FRT', 'ITW', 'LEG', 'MDT', 'NUE']\n",
      "In Week 39 these stocks pay out dividends: ['APD', 'BEN', 'CAH', 'CB', 'ESS', 'GD', 'ITW', 'MDT', 'MKC', 'NUE', 'ROP', 'SYY']\n",
      "In Week 40 these stocks pay out dividends: ['ABBV', 'ABT', 'APD', 'GD', 'MKC', 'ROP', 'SYY']\n",
      "In Week 41 these stocks pay out dividends: ['ABBV', 'ABT', 'CAT', 'CL', 'HRL', 'LOW', 'PG', 'PNR', 'TGT']\n",
      "In Week 42 these stocks pay out dividends: ['CAT', 'CL', 'CLX', 'HRL', 'LOW', 'PG', 'PNR', 'SYY']\n",
      "In Week 43 these stocks pay out dividends: ['AOS', 'BEN', 'CLX', 'PBCT']\n",
      "In Week 44 these stocks pay out dividends: ['CLX', 'CTAS', 'ED', 'GWW', 'PPG', 'WBA', 'XOM']\n",
      "In Week 45 these stocks pay out dividends: ['ADM', 'AFL', 'CVX', 'ED', 'EMR', 'GWW', 'PPG', 'SHW', 'TGT', 'WBA', 'XOM']\n",
      "In Week 46 these stocks pay out dividends: ['ADM', 'AFL', 'ATO', 'CVX', 'ED', 'EMR', 'JNJ', 'MMM', 'OTIS', 'SHW', 'TGT', 'WBA']\n",
      "In Week 47 these stocks pay out dividends: ['ATO', 'BEN', 'DOV', 'EXPD', 'JNJ', 'KO', 'MCD', 'SPGI', 'SWK']\n",
      "In Week 48 these stocks pay out dividends: ['BDX', 'BF-B', 'CINF', 'EXPD', 'GPC', 'KMB', 'KO', 'MCD', 'PEP', 'ROST', 'SWK', 'VFC', 'WMT']\n",
      "In Week 49 these stocks pay out dividends: ['ADP', 'ALB', 'BDX', 'BEN', 'CTAS', 'ECL', 'GPC', 'KMB', 'LEG', 'ROST', 'TROW', 'VFC', 'WMT']\n",
      "In Week 50 these stocks pay out dividends: ['ALB', 'BEN', 'CB', 'CINF', 'ECL', 'GD', 'ITW', 'LEG', 'ROP', 'TROW']\n",
      "In Week 51 these stocks pay out dividends: ['BEN', 'CAT', 'CB', 'ITW', 'MDT', 'MKC', 'NUE']\n",
      "In Week 52 these stocks pay out dividends: ['APD', 'BEN', 'CAH', 'CB', 'ESS', 'ITW', 'MDT', 'MKC', 'NUE', 'SYY']\n"
     ]
    }
   ],
   "source": [
    "stockPayoutWeeks(df)"
   ]
  },
  {
   "cell_type": "code",
   "execution_count": null,
   "metadata": {},
   "outputs": [],
   "source": []
  }
 ],
 "metadata": {
  "kernelspec": {
   "display_name": "Python 3",
   "language": "python",
   "name": "python3"
  },
  "language_info": {
   "codemirror_mode": {
    "name": "ipython",
    "version": 3
   },
   "file_extension": ".py",
   "mimetype": "text/x-python",
   "name": "python",
   "nbconvert_exporter": "python",
   "pygments_lexer": "ipython3",
   "version": "3.8.3"
  }
 },
 "nbformat": 4,
 "nbformat_minor": 4
}
